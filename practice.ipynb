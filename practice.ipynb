{
 "cells": [
  {
   "cell_type": "code",
   "execution_count": 3,
   "metadata": {},
   "outputs": [],
   "source": [
    "from typing import List\n",
    "HYPHEN_E_DOT=\"-e .\"\n",
    "def get_requirements(file_path:str)->List[str]:\n",
    "    '''\n",
    "    this function will return the list of requirements\n",
    "    '''\n",
    "\n",
    "    requirements=[]\n",
    "    with open(file_path) as file_object:\n",
    "        requirements=file_object.readlines()\n",
    "        requirements=[requirement.replace(\"\\n\",\"\") for requirement in requirements]\n",
    "\n",
    "        if HYPHEN_E_DOT in requirements:\n",
    "            requirements.remove(HYPHEN_E_DOT)   \n",
    "    \n",
    "    return requirements"
   ]
  },
  {
   "cell_type": "code",
   "execution_count": 9,
   "metadata": {},
   "outputs": [
    {
     "data": {
      "text/plain": [
       "['pandas', 'numpy', 'seaborn']"
      ]
     },
     "execution_count": 9,
     "metadata": {},
     "output_type": "execute_result"
    }
   ],
   "source": [
    "get_requirements(\"requirements.txt\")"
   ]
  },
  {
   "cell_type": "code",
   "execution_count": 12,
   "metadata": {},
   "outputs": [
    {
     "name": "stdout",
     "output_type": "stream",
     "text": [
      "None\n"
     ]
    }
   ],
   "source": [
    "f = open(\"requirements.txt\")\n",
    "r = f.readlines().remove(\"-e .\")\n",
    "print(r)"
   ]
  }
 ],
 "metadata": {
  "kernelspec": {
   "display_name": "Python 3",
   "language": "python",
   "name": "python3"
  },
  "language_info": {
   "codemirror_mode": {
    "name": "ipython",
    "version": 3
   },
   "file_extension": ".py",
   "mimetype": "text/x-python",
   "name": "python",
   "nbconvert_exporter": "python",
   "pygments_lexer": "ipython3",
   "version": "3.8.0"
  },
  "orig_nbformat": 4
 },
 "nbformat": 4,
 "nbformat_minor": 2
}
